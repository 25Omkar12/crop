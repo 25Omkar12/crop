{
 "cells": [
  {
   "cell_type": "code",
   "execution_count": 1,
   "id": "56971b50",
   "metadata": {},
   "outputs": [],
   "source": [
    "import pandas as pd \n",
    "import numpy as np"
   ]
  },
  {
   "cell_type": "code",
   "execution_count": 2,
   "id": "488373d3",
   "metadata": {},
   "outputs": [
    {
     "data": {
      "text/html": [
       "<div>\n",
       "<style scoped>\n",
       "    .dataframe tbody tr th:only-of-type {\n",
       "        vertical-align: middle;\n",
       "    }\n",
       "\n",
       "    .dataframe tbody tr th {\n",
       "        vertical-align: top;\n",
       "    }\n",
       "\n",
       "    .dataframe thead th {\n",
       "        text-align: right;\n",
       "    }\n",
       "</style>\n",
       "<table border=\"1\" class=\"dataframe\">\n",
       "  <thead>\n",
       "    <tr style=\"text-align: right;\">\n",
       "      <th></th>\n",
       "      <th>Crop</th>\n",
       "      <th>N</th>\n",
       "      <th>P</th>\n",
       "      <th>K</th>\n",
       "    </tr>\n",
       "  </thead>\n",
       "  <tbody>\n",
       "    <tr>\n",
       "      <th>0</th>\n",
       "      <td>apple</td>\n",
       "      <td>20.0</td>\n",
       "      <td>125.0</td>\n",
       "      <td>200.0</td>\n",
       "    </tr>\n",
       "    <tr>\n",
       "      <th>1</th>\n",
       "      <td>banana</td>\n",
       "      <td>100.0</td>\n",
       "      <td>75.0</td>\n",
       "      <td>50.0</td>\n",
       "    </tr>\n",
       "    <tr>\n",
       "      <th>2</th>\n",
       "      <td>blackgram</td>\n",
       "      <td>40.0</td>\n",
       "      <td>60.0</td>\n",
       "      <td>20.0</td>\n",
       "    </tr>\n",
       "    <tr>\n",
       "      <th>3</th>\n",
       "      <td>chickpea</td>\n",
       "      <td>20.0</td>\n",
       "      <td>50.0</td>\n",
       "      <td>20.0</td>\n",
       "    </tr>\n",
       "    <tr>\n",
       "      <th>4</th>\n",
       "      <td>coconut</td>\n",
       "      <td>20.0</td>\n",
       "      <td>10.0</td>\n",
       "      <td>30.0</td>\n",
       "    </tr>\n",
       "    <tr>\n",
       "      <th>5</th>\n",
       "      <td>coffee</td>\n",
       "      <td>100.0</td>\n",
       "      <td>20.0</td>\n",
       "      <td>30.0</td>\n",
       "    </tr>\n",
       "    <tr>\n",
       "      <th>6</th>\n",
       "      <td>cotton</td>\n",
       "      <td>115.7</td>\n",
       "      <td>30.9</td>\n",
       "      <td>7.0</td>\n",
       "    </tr>\n",
       "    <tr>\n",
       "      <th>7</th>\n",
       "      <td>grapes</td>\n",
       "      <td>20.0</td>\n",
       "      <td>125.0</td>\n",
       "      <td>200.0</td>\n",
       "    </tr>\n",
       "    <tr>\n",
       "      <th>8</th>\n",
       "      <td>groundnut</td>\n",
       "      <td>35.3</td>\n",
       "      <td>53.8</td>\n",
       "      <td>28.9</td>\n",
       "    </tr>\n",
       "    <tr>\n",
       "      <th>9</th>\n",
       "      <td>jute</td>\n",
       "      <td>55.9</td>\n",
       "      <td>22.4</td>\n",
       "      <td>10.2</td>\n",
       "    </tr>\n",
       "    <tr>\n",
       "      <th>10</th>\n",
       "      <td>kidneybeans</td>\n",
       "      <td>20.0</td>\n",
       "      <td>60.0</td>\n",
       "      <td>20.0</td>\n",
       "    </tr>\n",
       "    <tr>\n",
       "      <th>11</th>\n",
       "      <td>lentil</td>\n",
       "      <td>20.0</td>\n",
       "      <td>40.0</td>\n",
       "      <td>40.0</td>\n",
       "    </tr>\n",
       "    <tr>\n",
       "      <th>12</th>\n",
       "      <td>maize</td>\n",
       "      <td>120.0</td>\n",
       "      <td>60.0</td>\n",
       "      <td>50.0</td>\n",
       "    </tr>\n",
       "    <tr>\n",
       "      <th>13</th>\n",
       "      <td>mango</td>\n",
       "      <td>20.0</td>\n",
       "      <td>20.0</td>\n",
       "      <td>30.0</td>\n",
       "    </tr>\n",
       "    <tr>\n",
       "      <th>14</th>\n",
       "      <td>mothbeans</td>\n",
       "      <td>20.0</td>\n",
       "      <td>40.0</td>\n",
       "      <td>20.0</td>\n",
       "    </tr>\n",
       "    <tr>\n",
       "      <th>15</th>\n",
       "      <td>mungbean</td>\n",
       "      <td>20.0</td>\n",
       "      <td>40.0</td>\n",
       "      <td>20.0</td>\n",
       "    </tr>\n",
       "    <tr>\n",
       "      <th>16</th>\n",
       "      <td>muskmelon</td>\n",
       "      <td>100.0</td>\n",
       "      <td>10.0</td>\n",
       "      <td>50.0</td>\n",
       "    </tr>\n",
       "    <tr>\n",
       "      <th>17</th>\n",
       "      <td>mustard</td>\n",
       "      <td>81.7</td>\n",
       "      <td>30.4</td>\n",
       "      <td>4.3</td>\n",
       "    </tr>\n",
       "    <tr>\n",
       "      <th>18</th>\n",
       "      <td>orange</td>\n",
       "      <td>20.0</td>\n",
       "      <td>10.0</td>\n",
       "      <td>10.0</td>\n",
       "    </tr>\n",
       "    <tr>\n",
       "      <th>19</th>\n",
       "      <td>paddy</td>\n",
       "      <td>103.4</td>\n",
       "      <td>32.8</td>\n",
       "      <td>18.8</td>\n",
       "    </tr>\n",
       "    <tr>\n",
       "      <th>20</th>\n",
       "      <td>papaya</td>\n",
       "      <td>50.0</td>\n",
       "      <td>50.0</td>\n",
       "      <td>50.0</td>\n",
       "    </tr>\n",
       "    <tr>\n",
       "      <th>21</th>\n",
       "      <td>pearlmillet</td>\n",
       "      <td>80.0</td>\n",
       "      <td>60.0</td>\n",
       "      <td>40.0</td>\n",
       "    </tr>\n",
       "    <tr>\n",
       "      <th>22</th>\n",
       "      <td>pigeonpea</td>\n",
       "      <td>20.0</td>\n",
       "      <td>50.0</td>\n",
       "      <td>20.0</td>\n",
       "    </tr>\n",
       "    <tr>\n",
       "      <th>23</th>\n",
       "      <td>pomegranate</td>\n",
       "      <td>20.0</td>\n",
       "      <td>10.0</td>\n",
       "      <td>40.0</td>\n",
       "    </tr>\n",
       "    <tr>\n",
       "      <th>24</th>\n",
       "      <td>rapeseed</td>\n",
       "      <td>81.7</td>\n",
       "      <td>30.4</td>\n",
       "      <td>4.3</td>\n",
       "    </tr>\n",
       "    <tr>\n",
       "      <th>25</th>\n",
       "      <td>rice</td>\n",
       "      <td>120.0</td>\n",
       "      <td>60.0</td>\n",
       "      <td>60.0</td>\n",
       "    </tr>\n",
       "    <tr>\n",
       "      <th>26</th>\n",
       "      <td>sorghum</td>\n",
       "      <td>58.5</td>\n",
       "      <td>29.1</td>\n",
       "      <td>10.7</td>\n",
       "    </tr>\n",
       "    <tr>\n",
       "      <th>27</th>\n",
       "      <td>sugarcane</td>\n",
       "      <td>126.4</td>\n",
       "      <td>45.0</td>\n",
       "      <td>40.6</td>\n",
       "    </tr>\n",
       "    <tr>\n",
       "      <th>28</th>\n",
       "      <td>watermelon</td>\n",
       "      <td>100.0</td>\n",
       "      <td>10.0</td>\n",
       "      <td>50.0</td>\n",
       "    </tr>\n",
       "    <tr>\n",
       "      <th>29</th>\n",
       "      <td>wheat</td>\n",
       "      <td>120.0</td>\n",
       "      <td>60.0</td>\n",
       "      <td>60.0</td>\n",
       "    </tr>\n",
       "  </tbody>\n",
       "</table>\n",
       "</div>"
      ],
      "text/plain": [
       "           Crop      N      P      K\n",
       "0         apple   20.0  125.0  200.0\n",
       "1        banana  100.0   75.0   50.0\n",
       "2     blackgram   40.0   60.0   20.0\n",
       "3      chickpea   20.0   50.0   20.0\n",
       "4       coconut   20.0   10.0   30.0\n",
       "5        coffee  100.0   20.0   30.0\n",
       "6        cotton  115.7   30.9    7.0\n",
       "7        grapes   20.0  125.0  200.0\n",
       "8     groundnut   35.3   53.8   28.9\n",
       "9          jute   55.9   22.4   10.2\n",
       "10  kidneybeans   20.0   60.0   20.0\n",
       "11       lentil   20.0   40.0   40.0\n",
       "12        maize  120.0   60.0   50.0\n",
       "13        mango   20.0   20.0   30.0\n",
       "14    mothbeans   20.0   40.0   20.0\n",
       "15     mungbean   20.0   40.0   20.0\n",
       "16    muskmelon  100.0   10.0   50.0\n",
       "17      mustard   81.7   30.4    4.3\n",
       "18       orange   20.0   10.0   10.0\n",
       "19        paddy  103.4   32.8   18.8\n",
       "20       papaya   50.0   50.0   50.0\n",
       "21  pearlmillet   80.0   60.0   40.0\n",
       "22    pigeonpea   20.0   50.0   20.0\n",
       "23  pomegranate   20.0   10.0   40.0\n",
       "24     rapeseed   81.7   30.4    4.3\n",
       "25         rice  120.0   60.0   60.0\n",
       "26      sorghum   58.5   29.1   10.7\n",
       "27    sugarcane  126.4   45.0   40.6\n",
       "28   watermelon  100.0   10.0   50.0\n",
       "29        wheat  120.0   60.0   60.0"
      ]
     },
     "execution_count": 2,
     "metadata": {},
     "output_type": "execute_result"
    }
   ],
   "source": [
    "df=pd.read_csv('Crop_NPK.csv')\n",
    "df"
   ]
  },
  {
   "cell_type": "code",
   "execution_count": 4,
   "id": "247ea691",
   "metadata": {},
   "outputs": [
    {
     "data": {
      "text/html": [
       "<div>\n",
       "<style scoped>\n",
       "    .dataframe tbody tr th:only-of-type {\n",
       "        vertical-align: middle;\n",
       "    }\n",
       "\n",
       "    .dataframe tbody tr th {\n",
       "        vertical-align: top;\n",
       "    }\n",
       "\n",
       "    .dataframe thead th {\n",
       "        text-align: right;\n",
       "    }\n",
       "</style>\n",
       "<table border=\"1\" class=\"dataframe\">\n",
       "  <thead>\n",
       "    <tr style=\"text-align: right;\">\n",
       "      <th></th>\n",
       "      <th>N</th>\n",
       "      <th>P</th>\n",
       "      <th>K</th>\n",
       "      <th>temperature</th>\n",
       "      <th>humidity</th>\n",
       "      <th>ph</th>\n",
       "      <th>rainfall</th>\n",
       "      <th>label</th>\n",
       "    </tr>\n",
       "  </thead>\n",
       "  <tbody>\n",
       "    <tr>\n",
       "      <th>0</th>\n",
       "      <td>90</td>\n",
       "      <td>42</td>\n",
       "      <td>43</td>\n",
       "      <td>20.879744</td>\n",
       "      <td>82.002744</td>\n",
       "      <td>6.502985</td>\n",
       "      <td>202.935536</td>\n",
       "      <td>rice</td>\n",
       "    </tr>\n",
       "    <tr>\n",
       "      <th>1</th>\n",
       "      <td>85</td>\n",
       "      <td>58</td>\n",
       "      <td>41</td>\n",
       "      <td>21.770462</td>\n",
       "      <td>80.319644</td>\n",
       "      <td>7.038096</td>\n",
       "      <td>226.655537</td>\n",
       "      <td>rice</td>\n",
       "    </tr>\n",
       "    <tr>\n",
       "      <th>2</th>\n",
       "      <td>60</td>\n",
       "      <td>55</td>\n",
       "      <td>44</td>\n",
       "      <td>23.004459</td>\n",
       "      <td>82.320763</td>\n",
       "      <td>7.840207</td>\n",
       "      <td>263.964248</td>\n",
       "      <td>rice</td>\n",
       "    </tr>\n",
       "    <tr>\n",
       "      <th>3</th>\n",
       "      <td>74</td>\n",
       "      <td>35</td>\n",
       "      <td>40</td>\n",
       "      <td>26.491096</td>\n",
       "      <td>80.158363</td>\n",
       "      <td>6.980401</td>\n",
       "      <td>242.864034</td>\n",
       "      <td>rice</td>\n",
       "    </tr>\n",
       "    <tr>\n",
       "      <th>4</th>\n",
       "      <td>78</td>\n",
       "      <td>42</td>\n",
       "      <td>42</td>\n",
       "      <td>20.130175</td>\n",
       "      <td>81.604873</td>\n",
       "      <td>7.628473</td>\n",
       "      <td>262.717340</td>\n",
       "      <td>rice</td>\n",
       "    </tr>\n",
       "    <tr>\n",
       "      <th>...</th>\n",
       "      <td>...</td>\n",
       "      <td>...</td>\n",
       "      <td>...</td>\n",
       "      <td>...</td>\n",
       "      <td>...</td>\n",
       "      <td>...</td>\n",
       "      <td>...</td>\n",
       "      <td>...</td>\n",
       "    </tr>\n",
       "    <tr>\n",
       "      <th>2195</th>\n",
       "      <td>107</td>\n",
       "      <td>34</td>\n",
       "      <td>32</td>\n",
       "      <td>26.774637</td>\n",
       "      <td>66.413269</td>\n",
       "      <td>6.780064</td>\n",
       "      <td>177.774507</td>\n",
       "      <td>coffee</td>\n",
       "    </tr>\n",
       "    <tr>\n",
       "      <th>2196</th>\n",
       "      <td>99</td>\n",
       "      <td>15</td>\n",
       "      <td>27</td>\n",
       "      <td>27.417112</td>\n",
       "      <td>56.636362</td>\n",
       "      <td>6.086922</td>\n",
       "      <td>127.924610</td>\n",
       "      <td>coffee</td>\n",
       "    </tr>\n",
       "    <tr>\n",
       "      <th>2197</th>\n",
       "      <td>118</td>\n",
       "      <td>33</td>\n",
       "      <td>30</td>\n",
       "      <td>24.131797</td>\n",
       "      <td>67.225123</td>\n",
       "      <td>6.362608</td>\n",
       "      <td>173.322839</td>\n",
       "      <td>coffee</td>\n",
       "    </tr>\n",
       "    <tr>\n",
       "      <th>2198</th>\n",
       "      <td>117</td>\n",
       "      <td>32</td>\n",
       "      <td>34</td>\n",
       "      <td>26.272418</td>\n",
       "      <td>52.127394</td>\n",
       "      <td>6.758793</td>\n",
       "      <td>127.175293</td>\n",
       "      <td>coffee</td>\n",
       "    </tr>\n",
       "    <tr>\n",
       "      <th>2199</th>\n",
       "      <td>104</td>\n",
       "      <td>18</td>\n",
       "      <td>30</td>\n",
       "      <td>23.603016</td>\n",
       "      <td>60.396475</td>\n",
       "      <td>6.779833</td>\n",
       "      <td>140.937041</td>\n",
       "      <td>coffee</td>\n",
       "    </tr>\n",
       "  </tbody>\n",
       "</table>\n",
       "<p>2200 rows × 8 columns</p>\n",
       "</div>"
      ],
      "text/plain": [
       "        N   P   K  temperature   humidity        ph    rainfall   label\n",
       "0      90  42  43    20.879744  82.002744  6.502985  202.935536    rice\n",
       "1      85  58  41    21.770462  80.319644  7.038096  226.655537    rice\n",
       "2      60  55  44    23.004459  82.320763  7.840207  263.964248    rice\n",
       "3      74  35  40    26.491096  80.158363  6.980401  242.864034    rice\n",
       "4      78  42  42    20.130175  81.604873  7.628473  262.717340    rice\n",
       "...   ...  ..  ..          ...        ...       ...         ...     ...\n",
       "2195  107  34  32    26.774637  66.413269  6.780064  177.774507  coffee\n",
       "2196   99  15  27    27.417112  56.636362  6.086922  127.924610  coffee\n",
       "2197  118  33  30    24.131797  67.225123  6.362608  173.322839  coffee\n",
       "2198  117  32  34    26.272418  52.127394  6.758793  127.175293  coffee\n",
       "2199  104  18  30    23.603016  60.396475  6.779833  140.937041  coffee\n",
       "\n",
       "[2200 rows x 8 columns]"
      ]
     },
     "execution_count": 4,
     "metadata": {},
     "output_type": "execute_result"
    }
   ],
   "source": [
    "df1=pd.read_csv('crop_recommendation.csv')\n",
    "df1"
   ]
  },
  {
   "cell_type": "code",
   "execution_count": 9,
   "id": "07df993f",
   "metadata": {},
   "outputs": [],
   "source": [
    "# logistic regression\n",
    "\n",
    "x=df1.drop('label',axis=1)\n",
    "y=df1['label']"
   ]
  },
  {
   "cell_type": "code",
   "execution_count": 13,
   "id": "014e65a5",
   "metadata": {},
   "outputs": [],
   "source": [
    "from sklearn.model_selection import train_test_split\n",
    "from sklearn.linear_model import LogisticRegression\n",
    "from sklearn.metrics import accuracy_score , classification_report ,confusion_matrix"
   ]
  },
  {
   "cell_type": "code",
   "execution_count": 14,
   "id": "d420a6a6",
   "metadata": {},
   "outputs": [
    {
     "name": "stderr",
     "output_type": "stream",
     "text": [
      "C:\\ProgramData\\Anaconda3\\lib\\site-packages\\sklearn\\linear_model\\_logistic.py:814: ConvergenceWarning: lbfgs failed to converge (status=1):\n",
      "STOP: TOTAL NO. of ITERATIONS REACHED LIMIT.\n",
      "\n",
      "Increase the number of iterations (max_iter) or scale the data as shown in:\n",
      "    https://scikit-learn.org/stable/modules/preprocessing.html\n",
      "Please also refer to the documentation for alternative solver options:\n",
      "    https://scikit-learn.org/stable/modules/linear_model.html#logistic-regression\n",
      "  n_iter_i = _check_optimize_result(\n"
     ]
    },
    {
     "data": {
      "text/plain": [
       "LogisticRegression()"
      ]
     },
     "execution_count": 14,
     "metadata": {},
     "output_type": "execute_result"
    }
   ],
   "source": [
    "x_train,x_test,y_train,y_test=train_test_split(x,y,random_state=10,test_size=0.30)\n",
    "\n",
    "model=LogisticRegression()\n",
    "model.fit(x_train,y_train)"
   ]
  },
  {
   "cell_type": "code",
   "execution_count": 15,
   "id": "f8189e53",
   "metadata": {},
   "outputs": [
    {
     "data": {
      "text/plain": [
       "array(['chickpea', 'coconut', 'cotton', 'coffee', 'pomegranate'],\n",
       "      dtype=object)"
      ]
     },
     "execution_count": 15,
     "metadata": {},
     "output_type": "execute_result"
    }
   ],
   "source": [
    "# model evaluation\n",
    "#testing data\n",
    "\n",
    "y_test_pred=model.predict(x_test)\n",
    "y_test_pred[0:5]\n"
   ]
  },
  {
   "cell_type": "code",
   "execution_count": 16,
   "id": "b9904cd0",
   "metadata": {},
   "outputs": [
    {
     "data": {
      "text/plain": [
       "299     chickpea\n",
       "1859     coconut\n",
       "1939      cotton\n",
       "2194      coffee\n",
       "1861     coconut\n",
       "Name: label, dtype: object"
      ]
     },
     "execution_count": 16,
     "metadata": {},
     "output_type": "execute_result"
    }
   ],
   "source": [
    "y_test[0:5]"
   ]
  },
  {
   "cell_type": "code",
   "execution_count": 17,
   "id": "a1b4f60c",
   "metadata": {},
   "outputs": [
    {
     "data": {
      "text/plain": [
       "0.9606060606060606"
      ]
     },
     "execution_count": 17,
     "metadata": {},
     "output_type": "execute_result"
    }
   ],
   "source": [
    "accuracy_test=accuracy_score(y_test_pred,y_test)\n",
    "accuracy_test"
   ]
  },
  {
   "cell_type": "code",
   "execution_count": 24,
   "id": "bc2a4341",
   "metadata": {},
   "outputs": [
    {
     "data": {
      "text/plain": [
       "array(['mungbean', 'banana', 'mango', 'coconut', 'blackgram'],\n",
       "      dtype=object)"
      ]
     },
     "execution_count": 24,
     "metadata": {},
     "output_type": "execute_result"
    }
   ],
   "source": [
    "# traning data \n",
    "y_train_pred=model.predict(x_train)\n",
    "y_train_pred[0:5]"
   ]
  },
  {
   "cell_type": "code",
   "execution_count": 26,
   "id": "c8558a12",
   "metadata": {},
   "outputs": [
    {
     "data": {
      "text/plain": [
       "697      mungbean\n",
       "1033       banana\n",
       "1109        mango\n",
       "1827      coconut\n",
       "708     blackgram\n",
       "Name: label, dtype: object"
      ]
     },
     "execution_count": 26,
     "metadata": {},
     "output_type": "execute_result"
    }
   ],
   "source": [
    "y_train[0:5]"
   ]
  },
  {
   "cell_type": "code",
   "execution_count": 30,
   "id": "2c9b3905",
   "metadata": {},
   "outputs": [
    {
     "data": {
      "text/plain": [
       "0.9714285714285714"
      ]
     },
     "execution_count": 30,
     "metadata": {},
     "output_type": "execute_result"
    }
   ],
   "source": [
    "accuracy_train=accuracy_score(y_train_pred,y_train)\n",
    "accuracy_train"
   ]
  },
  {
   "cell_type": "markdown",
   "id": "0f9b9901",
   "metadata": {},
   "source": [
    "# using Random Forest"
   ]
  },
  {
   "cell_type": "code",
   "execution_count": 31,
   "id": "6c9ec4bf",
   "metadata": {},
   "outputs": [
    {
     "data": {
      "text/plain": [
       "RandomForestClassifier(random_state=10)"
      ]
     },
     "execution_count": 31,
     "metadata": {},
     "output_type": "execute_result"
    }
   ],
   "source": [
    "from sklearn.ensemble import RandomForestClassifier\n",
    "\n",
    "model=RandomForestClassifier(random_state=10)\n",
    "model.fit(x_train,y_train)"
   ]
  },
  {
   "cell_type": "code",
   "execution_count": 44,
   "id": "9bcb9701",
   "metadata": {},
   "outputs": [
    {
     "data": {
      "text/plain": [
       "array(['chickpea', 'coconut', 'cotton', 'coffee', 'coconut'], dtype=object)"
      ]
     },
     "execution_count": 44,
     "metadata": {},
     "output_type": "execute_result"
    }
   ],
   "source": [
    "# model evalution testing data \n",
    "y_test_pred_rm=model.predict(x_test)\n",
    "y_test_pred_rm[0:5]"
   ]
  },
  {
   "cell_type": "code",
   "execution_count": 39,
   "id": "d1d0eb06",
   "metadata": {},
   "outputs": [
    {
     "data": {
      "text/plain": [
       "299     chickpea\n",
       "1859     coconut\n",
       "1939      cotton\n",
       "2194      coffee\n",
       "1861     coconut\n",
       "Name: label, dtype: object"
      ]
     },
     "execution_count": 39,
     "metadata": {},
     "output_type": "execute_result"
    }
   ],
   "source": [
    "y_test[0:5]"
   ]
  },
  {
   "cell_type": "code",
   "execution_count": 46,
   "id": "3645c6fd",
   "metadata": {},
   "outputs": [
    {
     "data": {
      "text/plain": [
       "array(['mungbean', 'banana', 'mango', 'coconut', 'blackgram'],\n",
       "      dtype=object)"
      ]
     },
     "execution_count": 46,
     "metadata": {},
     "output_type": "execute_result"
    }
   ],
   "source": [
    "# model evaluation training data\n",
    "y_train_pred_rm = model.predict(x_train)\n",
    "y_train_pred_rm[0:5]"
   ]
  },
  {
   "cell_type": "code",
   "execution_count": 42,
   "id": "22dc069d",
   "metadata": {},
   "outputs": [
    {
     "data": {
      "text/plain": [
       "697      mungbean\n",
       "1033       banana\n",
       "1109        mango\n",
       "1827      coconut\n",
       "708     blackgram\n",
       "Name: label, dtype: object"
      ]
     },
     "execution_count": 42,
     "metadata": {},
     "output_type": "execute_result"
    }
   ],
   "source": [
    "y_train[0:5]"
   ]
  },
  {
   "cell_type": "code",
   "execution_count": 48,
   "id": "0bf7dad4",
   "metadata": {},
   "outputs": [
    {
     "data": {
      "text/plain": [
       "0.9606060606060606"
      ]
     },
     "execution_count": 48,
     "metadata": {},
     "output_type": "execute_result"
    }
   ],
   "source": [
    "# accuracy for test data\n",
    "accuray_test =accuracy_score(y_test_pred_rm,y_test)\n",
    "accuracy_test"
   ]
  },
  {
   "cell_type": "code",
   "execution_count": 49,
   "id": "649e3b6b",
   "metadata": {},
   "outputs": [
    {
     "data": {
      "text/plain": [
       "1.0"
      ]
     },
     "execution_count": 49,
     "metadata": {},
     "output_type": "execute_result"
    }
   ],
   "source": [
    "# accuracy for test data \n",
    "accuracy_train= accuracy_score(y_train_pred_rm,y_train)\n",
    "accuracy_train"
   ]
  },
  {
   "cell_type": "markdown",
   "id": "c483c22e",
   "metadata": {},
   "source": [
    "# hyper parameter tunning "
   ]
  },
  {
   "cell_type": "code",
   "execution_count": 50,
   "id": "ef88a869",
   "metadata": {},
   "outputs": [],
   "source": [
    "from sklearn.model_selection import RandomizedSearchCV,GridSearchCV\n"
   ]
  },
  {
   "cell_type": "code",
   "execution_count": 86,
   "id": "f8b27fd4",
   "metadata": {},
   "outputs": [
    {
     "data": {
      "text/plain": [
       "RandomizedSearchCV(cv=5, estimator=RandomForestClassifier(random_state=5),\n",
       "                   param_distributions={'criterion': ['gini', 'entropy'],\n",
       "                                        'max_depth': array([ 5,  6,  7,  8,  9, 10, 11, 12, 13, 14, 15, 16, 17, 18, 19]),\n",
       "                                        'max_features': ['auto'],\n",
       "                                        'min_samples_leaf': array([1, 2, 3, 4, 5, 6, 7, 8, 9]),\n",
       "                                        'min_samples_split': array([ 2,  3,  4,  5,  6,  7,  8,  9, 10, 11, 12, 13, 14]),\n",
       "                                        'n_estimators': array([ 10,  20,  30,  40,  50,  60,  70,  80,  90, 100, 110, 120, 130,\n",
       "       140, 150, 160, 170, 180, 190])})"
      ]
     },
     "execution_count": 86,
     "metadata": {},
     "output_type": "execute_result"
    }
   ],
   "source": [
    "model_rf = RandomForestClassifier(random_state=5)\n",
    "\n",
    "hyp = {\n",
    "    \"n_estimators\": np.arange(10,200,10),\n",
    "    'criterion' : ['gini','entropy'],\n",
    "    'max_depth' : np.arange(5,20),\n",
    "    'min_samples_split':np.arange(2,15),\n",
    "    'min_samples_leaf' :np.arange(1,10),\n",
    "    'max_features' : ['auto']\n",
    "}\n",
    "                      \n",
    "rscv_model_rf =RandomizedSearchCV(model_rf,hyp,cv=5)\n",
    "rscv_model_rf.fit(x_train,y_train)"
   ]
  },
  {
   "cell_type": "code",
   "execution_count": 87,
   "id": "1d977b3b",
   "metadata": {},
   "outputs": [
    {
     "data": {
      "text/plain": [
       "RandomForestClassifier(criterion='entropy', max_depth=11, min_samples_leaf=8,\n",
       "                       min_samples_split=9, n_estimators=170, random_state=5)"
      ]
     },
     "execution_count": 87,
     "metadata": {},
     "output_type": "execute_result"
    }
   ],
   "source": [
    "### Testing Data \n",
    "rscv_model_rf.best_estimator_"
   ]
  },
  {
   "cell_type": "code",
   "execution_count": 88,
   "id": "c2f0a204",
   "metadata": {},
   "outputs": [],
   "source": [
    "model_rf_hyp=RandomForestClassifier(criterion='entropy', max_depth=11, min_samples_leaf=8,\n",
    "                       min_samples_split=9, n_estimators=170, random_state=5,oob_score=True)"
   ]
  },
  {
   "cell_type": "code",
   "execution_count": 89,
   "id": "bc281ee6",
   "metadata": {},
   "outputs": [
    {
     "data": {
      "text/plain": [
       "{'n_estimators': 170,\n",
       " 'min_samples_split': 9,\n",
       " 'min_samples_leaf': 8,\n",
       " 'max_features': 'auto',\n",
       " 'max_depth': 11,\n",
       " 'criterion': 'entropy'}"
      ]
     },
     "execution_count": 89,
     "metadata": {},
     "output_type": "execute_result"
    }
   ],
   "source": [
    "rscv_model_rf.best_params_\n"
   ]
  },
  {
   "cell_type": "code",
   "execution_count": 90,
   "id": "ac84817c",
   "metadata": {},
   "outputs": [
    {
     "data": {
      "text/plain": [
       "RandomForestClassifier(criterion='entropy', max_depth=11, min_samples_leaf=8,\n",
       "                       min_samples_split=9, n_estimators=170, oob_score=True,\n",
       "                       random_state=5)"
      ]
     },
     "execution_count": 90,
     "metadata": {},
     "output_type": "execute_result"
    }
   ],
   "source": [
    "model_rf_hyp.fit(x_train,y_train)"
   ]
  },
  {
   "cell_type": "code",
   "execution_count": 91,
   "id": "86ca57b5",
   "metadata": {},
   "outputs": [
    {
     "data": {
      "text/plain": [
       "array(['chickpea', 'coconut', 'cotton', 'coffee', 'coconut', 'lentil',\n",
       "       'muskmelon', 'mango', 'coconut', 'mothbeans'], dtype=object)"
      ]
     },
     "execution_count": 91,
     "metadata": {},
     "output_type": "execute_result"
    }
   ],
   "source": [
    "y_test_pred_hyp_rm=model_rf_hyp.predict(x_test)\n",
    "y_test_pred_hyp_rm[0:10]"
   ]
  },
  {
   "cell_type": "code",
   "execution_count": 92,
   "id": "001b5522",
   "metadata": {},
   "outputs": [
    {
     "data": {
      "text/plain": [
       "299     chickpea\n",
       "1859     coconut\n",
       "1939      cotton\n",
       "2194      coffee\n",
       "1861     coconut\n",
       "Name: label, dtype: object"
      ]
     },
     "execution_count": 92,
     "metadata": {},
     "output_type": "execute_result"
    }
   ],
   "source": [
    "y_test[0:5]"
   ]
  },
  {
   "cell_type": "code",
   "execution_count": 93,
   "id": "eef31a2a",
   "metadata": {},
   "outputs": [
    {
     "data": {
      "text/plain": [
       "0.9939393939393939"
      ]
     },
     "execution_count": 93,
     "metadata": {},
     "output_type": "execute_result"
    }
   ],
   "source": [
    "accuracy_hyp=accuracy_score(y_test_pred_hyp_rm,y_test)\n",
    "accuracy_hyp"
   ]
  },
  {
   "cell_type": "code",
   "execution_count": 94,
   "id": "f564d7ec",
   "metadata": {},
   "outputs": [
    {
     "data": {
      "text/plain": [
       "array(['mungbean', 'banana', 'mango', 'coconut', 'blackgram'],\n",
       "      dtype=object)"
      ]
     },
     "execution_count": 94,
     "metadata": {},
     "output_type": "execute_result"
    }
   ],
   "source": [
    "# traning evaluation\n",
    "y_train_pred_hyp=model_rf_hyp.predict(x_train)\n",
    "y_train_pred_hyp[0:5]"
   ]
  },
  {
   "cell_type": "code",
   "execution_count": 95,
   "id": "4a87a0d0",
   "metadata": {},
   "outputs": [
    {
     "data": {
      "text/plain": [
       "697      mungbean\n",
       "1033       banana\n",
       "1109        mango\n",
       "1827      coconut\n",
       "708     blackgram\n",
       "Name: label, dtype: object"
      ]
     },
     "execution_count": 95,
     "metadata": {},
     "output_type": "execute_result"
    }
   ],
   "source": [
    "y_train[0:5]"
   ]
  },
  {
   "cell_type": "code",
   "execution_count": 96,
   "id": "4f4e9c3f",
   "metadata": {},
   "outputs": [
    {
     "data": {
      "text/plain": [
       "0.9987012987012988"
      ]
     },
     "execution_count": 96,
     "metadata": {},
     "output_type": "execute_result"
    }
   ],
   "source": [
    "accuracy_train_hyp=accuracy_score(y_train_pred_hyp,y_train)\n",
    "accuracy_train_hyp"
   ]
  },
  {
   "cell_type": "code",
   "execution_count": 97,
   "id": "d417656c",
   "metadata": {},
   "outputs": [],
   "source": [
    " import pickle\n",
    "with open('model_crop.pkl','wb') as file:\n",
    "    pickle.dump(model_rf_hyp,file)"
   ]
  },
  {
   "cell_type": "code",
   "execution_count": null,
   "id": "39605f29",
   "metadata": {},
   "outputs": [],
   "source": []
  }
 ],
 "metadata": {
  "kernelspec": {
   "display_name": "Python 3 (ipykernel)",
   "language": "python",
   "name": "python3"
  },
  "language_info": {
   "codemirror_mode": {
    "name": "ipython",
    "version": 3
   },
   "file_extension": ".py",
   "mimetype": "text/x-python",
   "name": "python",
   "nbconvert_exporter": "python",
   "pygments_lexer": "ipython3",
   "version": "3.9.12"
  },
  "vscode": {
   "interpreter": {
    "hash": "ad2bdc8ecc057115af97d19610ffacc2b4e99fae6737bb82f5d7fb13d2f2c186"
   }
  }
 },
 "nbformat": 4,
 "nbformat_minor": 5
}
