{
 "cells": [
  {
   "cell_type": "code",
   "execution_count": 8,
   "id": "fadc541f",
   "metadata": {},
   "outputs": [],
   "source": [
    "import bz2\n",
    "import pickle\n",
    "import _pickle as cPickle\n",
    "import numpy as np\n",
    "import json"
   ]
  },
  {
   "cell_type": "code",
   "execution_count": 2,
   "id": "4d38f00a",
   "metadata": {},
   "outputs": [],
   "source": [
    "def decompress_pickle(file):\n",
    "    data = bz2.BZ2File(file, 'rb')\n",
    "    data = cPickle.load(data)\n",
    "    return data"
   ]
  },
  {
   "cell_type": "code",
   "execution_count": 4,
   "id": "964f14cf",
   "metadata": {},
   "outputs": [],
   "source": [
    "model=decompress_pickle('com_mod.pbz2')"
   ]
  },
  {
   "cell_type": "code",
   "execution_count": 18,
   "id": "ed5e1cc4",
   "metadata": {},
   "outputs": [
    {
     "data": {
      "text/plain": [
       "10"
      ]
     },
     "execution_count": 18,
     "metadata": {},
     "output_type": "execute_result"
    }
   ],
   "source": [
    "f=open('columns_list.json')\n",
    "data = json.load(f)\n",
    "data['columns'].index('State_Name_Gujarat')"
   ]
  },
  {
   "cell_type": "code",
   "execution_count": 19,
   "id": "e37e09f7",
   "metadata": {},
   "outputs": [
    {
     "name": "stdout",
     "output_type": "stream",
     "text": [
      "enter the area320.0\n",
      "enter the state:WestBengal\n",
      "enter the season:Summer\n",
      "enter the crop name:Rice\n"
     ]
    },
    {
     "name": "stderr",
     "output_type": "stream",
     "text": [
      "C:\\ProgramData\\Anaconda3\\lib\\site-packages\\sklearn\\base.py:450: UserWarning: X does not have valid feature names, but RandomForestRegressor was fitted with feature names\n",
      "  warnings.warn(\n"
     ]
    },
    {
     "data": {
      "text/plain": [
       "598.3068333333333"
      ]
     },
     "execution_count": 19,
     "metadata": {},
     "output_type": "execute_result"
    }
   ],
   "source": [
    "Area=float(input(\"enter the area\"))\n",
    "\n",
    "array=np.zeros(164,)\n",
    "array.shape\n",
    "array\n",
    "\n",
    "\n",
    "\n",
    "array[0]=Area\n",
    "\n",
    "column_list=data\n",
    "name=str(input(\"enter the state:\"))\n",
    "state_name='State_Name_'+name\n",
    "state_index=data['columns'].index(state_name)\n",
    "array[state_index]=1\n",
    "      \n",
    "season=str(input(\"enter the season:\"))\n",
    "season_name='Season_' + season\n",
    "season_index=data['columns'].index(season_name)\n",
    "array[season_index]=1\n",
    "\n",
    "Crop_name=str(input(\"enter the crop name:\"))\n",
    "crop= 'Crop_' + Crop_name\n",
    "crop_index= data['columns'].index(crop)\n",
    "array[crop_index]=1\n",
    "\n",
    "array\n",
    "\n",
    "\n",
    "pred=model.predict([array])\n",
    "pred[0]"
   ]
  },
  {
   "cell_type": "code",
   "execution_count": null,
   "id": "bc89a342",
   "metadata": {},
   "outputs": [],
   "source": []
  }
 ],
 "metadata": {
  "kernelspec": {
   "display_name": "Python 3 (ipykernel)",
   "language": "python",
   "name": "python3"
  },
  "language_info": {
   "codemirror_mode": {
    "name": "ipython",
    "version": 3
   },
   "file_extension": ".py",
   "mimetype": "text/x-python",
   "name": "python",
   "nbconvert_exporter": "python",
   "pygments_lexer": "ipython3",
   "version": "3.9.12"
  }
 },
 "nbformat": 4,
 "nbformat_minor": 5
}
