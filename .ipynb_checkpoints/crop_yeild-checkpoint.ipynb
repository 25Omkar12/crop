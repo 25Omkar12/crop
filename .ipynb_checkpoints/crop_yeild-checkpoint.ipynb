{
 "cells": [
  {
   "cell_type": "code",
   "execution_count": 1,
   "id": "3a50792d",
   "metadata": {
    "id": "3a50792d"
   },
   "outputs": [],
   "source": [
    "import pandas as pd \n",
    "import numpy as np\n",
    "import matplotlib.pyplot as plt\n",
    "import seaborn as sns\n",
    "from sklearn.model_selection import train_test_split,GridSearchCV,RandomizedSearchCV\n",
    "from sklearn.metrics import r2_score\n",
    "from sklearn.linear_model import LinearRegression\n",
    "from sklearn.ensemble import RandomForestRegressor"
   ]
  },
  {
   "cell_type": "code",
   "execution_count": null,
   "id": "Ql934PMsBKia",
   "metadata": {
    "id": "Ql934PMsBKia"
   },
   "outputs": [],
   "source": []
  },
  {
   "cell_type": "markdown",
   "id": "6a9d2b08",
   "metadata": {
    "id": "6a9d2b08"
   },
   "source": [
    "# Data gathering"
   ]
  },
  {
   "cell_type": "code",
   "execution_count": null,
   "id": "6c70e924",
   "metadata": {
    "colab": {
     "base_uri": "https://localhost:8080/",
     "height": 513
    },
    "id": "6c70e924",
    "outputId": "080d204d-c2c9-4650-e3ca-cac3009c3490"
   },
   "outputs": [],
   "source": [
    "df=pd.read_csv('crop_production.csv',error_bad_lines=False)\n",
    "df"
   ]
  },
  {
   "cell_type": "code",
   "execution_count": null,
   "id": "b868d1cb",
   "metadata": {
    "colab": {
     "base_uri": "https://localhost:8080/",
     "height": 206
    },
    "id": "b868d1cb",
    "outputId": "2152e510-272b-4e6c-848e-94a4c3d70fda"
   },
   "outputs": [],
   "source": [
    " df.tail()"
   ]
  },
  {
   "cell_type": "markdown",
   "id": "52fe28b8",
   "metadata": {
    "id": "52fe28b8"
   },
   "source": [
    "## EDA and data preprocessing "
   ]
  },
  {
   "cell_type": "code",
   "execution_count": null,
   "id": "73c89ab1",
   "metadata": {
    "colab": {
     "base_uri": "https://localhost:8080/"
    },
    "id": "73c89ab1",
    "outputId": "a18d7da4-61e9-4ff4-e5c7-3a6b34bf79f9"
   },
   "outputs": [],
   "source": [
    "df.info()"
   ]
  },
  {
   "cell_type": "code",
   "execution_count": null,
   "id": "248080aa",
   "metadata": {
    "colab": {
     "base_uri": "https://localhost:8080/"
    },
    "id": "248080aa",
    "outputId": "7d979d76-3e05-4375-8f60-fb9a44636238"
   },
   "outputs": [],
   "source": [
    "df.isnull().sum()"
   ]
  },
  {
   "cell_type": "code",
   "execution_count": null,
   "id": "217dcaaf",
   "metadata": {
    "colab": {
     "base_uri": "https://localhost:8080/",
     "height": 424
    },
    "id": "217dcaaf",
    "outputId": "8d2b28a4-3c26-42ec-c500-ee21aa917c25"
   },
   "outputs": [],
   "source": [
    "df=df.dropna()\n",
    "df"
   ]
  },
  {
   "cell_type": "markdown",
   "id": "489d7b35",
   "metadata": {
    "id": "489d7b35"
   },
   "source": [
    "# Data Visulization"
   ]
  },
  {
   "cell_type": "code",
   "execution_count": null,
   "id": "b1b1c597",
   "metadata": {
    "colab": {
     "base_uri": "https://localhost:8080/",
     "height": 363
    },
    "id": "b1b1c597",
    "outputId": "c073b9b7-8ce0-4bb6-d823-5c477a570bdf"
   },
   "outputs": [],
   "source": [
    "sns.lineplot(df['Crop_Year'],df['Production'])"
   ]
  },
  {
   "cell_type": "code",
   "execution_count": null,
   "id": "cbf009dd",
   "metadata": {
    "colab": {
     "base_uri": "https://localhost:8080/",
     "height": 864
    },
    "id": "cbf009dd",
    "outputId": "8e0ef486-fc32-49dc-8ca3-b08e337ac51e"
   },
   "outputs": [],
   "source": [
    "plt.figure(figsize=(15,10))\n",
    "sns.barplot(df['State_Name'],df['Production'])\n",
    "plt.xticks(rotation=90)"
   ]
  },
  {
   "cell_type": "code",
   "execution_count": null,
   "id": "9bcca277",
   "metadata": {
    "colab": {
     "base_uri": "https://localhost:8080/",
     "height": 351
    },
    "id": "9bcca277",
    "outputId": "42c953d3-2d0d-451f-809f-2be664cab18b"
   },
   "outputs": [],
   "source": [
    "sns.barplot(df['Production'],df['Season'])"
   ]
  },
  {
   "cell_type": "code",
   "execution_count": null,
   "id": "7cff9f00",
   "metadata": {
    "colab": {
     "base_uri": "https://localhost:8080/"
    },
    "id": "7cff9f00",
    "outputId": "4d11a022-deef-422e-9c48-7a6c7441e602"
   },
   "outputs": [],
   "source": [
    "df['Crop'].value_counts().head()"
   ]
  },
  {
   "cell_type": "code",
   "execution_count": null,
   "id": "5873f4c1",
   "metadata": {
    "id": "5873f4c1"
   },
   "outputs": [],
   "source": [
    "# visulisation of the top 5 crops"
   ]
  },
  {
   "cell_type": "code",
   "execution_count": null,
   "id": "66459382",
   "metadata": {
    "colab": {
     "base_uri": "https://localhost:8080/",
     "height": 206
    },
    "id": "66459382",
    "outputId": "04948137-26a6-430a-ecc8-daf7e25e648d"
   },
   "outputs": [],
   "source": [
    "df_rice=df[df['Crop']=='Rice']\n",
    "df_rice.head()"
   ]
  },
  {
   "cell_type": "code",
   "execution_count": null,
   "id": "3c08b5ab",
   "metadata": {
    "colab": {
     "base_uri": "https://localhost:8080/",
     "height": 351
    },
    "id": "3c08b5ab",
    "outputId": "230d6eee-7559-4201-abee-7421adf78773"
   },
   "outputs": [],
   "source": [
    "sns.barplot(df_rice['Season'],df_rice['Production'])"
   ]
  },
  {
   "cell_type": "code",
   "execution_count": null,
   "id": "aea7ccab",
   "metadata": {
    "id": "aea7ccab"
   },
   "outputs": [],
   "source": [
    "# Insight - production of rice is highest in winter "
   ]
  },
  {
   "cell_type": "code",
   "execution_count": null,
   "id": "81734ca0",
   "metadata": {
    "colab": {
     "base_uri": "https://localhost:8080/",
     "height": 853
    },
    "id": "81734ca0",
    "outputId": "6bd1f67b-c661-405f-eeeb-5ff3288cab63"
   },
   "outputs": [],
   "source": [
    "plt.figure(figsize=(15,10))\n",
    "sns.barplot(df_rice['State_Name'],df_rice['Production'])\n",
    "plt.xticks(rotation=90)"
   ]
  },
  {
   "cell_type": "code",
   "execution_count": null,
   "id": "53c4a62d",
   "metadata": {
    "id": "53c4a62d"
   },
   "outputs": [],
   "source": [
    "# Insight- Punjab state has highest production "
   ]
  },
  {
   "cell_type": "code",
   "execution_count": null,
   "id": "f425fdaa",
   "metadata": {
    "colab": {
     "base_uri": "https://localhost:8080/",
     "height": 513
    },
    "id": "f425fdaa",
    "outputId": "25bf7f29-60f8-4ea1-d1a3-e4749c6b692c"
   },
   "outputs": [],
   "source": [
    "sns.jointplot(\"Area\",\"Production\",data=df_rice,kind=\"reg\")"
   ]
  },
  {
   "cell_type": "code",
   "execution_count": null,
   "id": "f4e54e6e",
   "metadata": {
    "id": "f4e54e6e"
   },
   "outputs": [],
   "source": [
    "dist_rice_df=df_rice.groupby('District_Name')['Production'].sum().reset_index().sort_values(by='Production',ascending=False)"
   ]
  },
  {
   "cell_type": "code",
   "execution_count": null,
   "id": "15329a59",
   "metadata": {
    "colab": {
     "base_uri": "https://localhost:8080/",
     "height": 206
    },
    "id": "15329a59",
    "outputId": "efd669af-7e48-442f-e721-f4a7bdde77be"
   },
   "outputs": [],
   "source": [
    "dist_rice_df.head()"
   ]
  },
  {
   "cell_type": "code",
   "execution_count": null,
   "id": "5d90a1af",
   "metadata": {
    "colab": {
     "base_uri": "https://localhost:8080/",
     "height": 819
    },
    "id": "5d90a1af",
    "outputId": "7203856f-bda7-4c81-d0b5-6ca6ec28c20d"
   },
   "outputs": [],
   "source": [
    "plt.figure(figsize=(15,10))\n",
    "sns.barplot(dist_rice_df['District_Name'],dist_rice_df['Production'])\n",
    "plt.xticks(rotation=90)\n",
    "plt.show()"
   ]
  },
  {
   "cell_type": "code",
   "execution_count": null,
   "id": "d603e8dc",
   "metadata": {
    "colab": {
     "base_uri": "https://localhost:8080/",
     "height": 206
    },
    "id": "d603e8dc",
    "outputId": "b69f1666-ee02-45e0-9b84-210875ad9424"
   },
   "outputs": [],
   "source": [
    "df_maize=df[df['Crop']=='Maize']\n",
    "df_maize.head()"
   ]
  },
  {
   "cell_type": "code",
   "execution_count": null,
   "id": "807a6f47",
   "metadata": {
    "colab": {
     "base_uri": "https://localhost:8080/",
     "height": 351
    },
    "id": "807a6f47",
    "outputId": "68cecc53-dd25-45e2-932a-78199810814d"
   },
   "outputs": [],
   "source": [
    "sns.barplot(df_maize['Season'],df_maize['Production'])"
   ]
  },
  {
   "cell_type": "code",
   "execution_count": null,
   "id": "656f9005",
   "metadata": {
    "colab": {
     "base_uri": "https://localhost:8080/",
     "height": 853
    },
    "id": "656f9005",
    "outputId": "6f27f676-ec6a-4a43-a14f-81b8af2965ce"
   },
   "outputs": [],
   "source": [
    "plt.figure(figsize=(15,10))\n",
    "sns.barplot(df_maize['State_Name'],df_maize['Production'])\n",
    "plt.xticks(rotation=90)"
   ]
  },
  {
   "cell_type": "code",
   "execution_count": null,
   "id": "c3862364",
   "metadata": {
    "colab": {
     "base_uri": "https://localhost:8080/",
     "height": 513
    },
    "id": "c3862364",
    "outputId": "0c3e9fad-3efa-4ac1-9c96-48fb288efdd8"
   },
   "outputs": [],
   "source": [
    "sns.jointplot(\"Area\",\"Production\",data=df_maize,kind=\"reg\")"
   ]
  },
  {
   "cell_type": "code",
   "execution_count": null,
   "id": "c7c7b93e",
   "metadata": {
    "id": "c7c7b93e"
   },
   "outputs": [],
   "source": [
    "dist_maize_df=df_maize.groupby('District_Name')['Production'].sum().reset_index().sort_values(by='Production',ascending=False)"
   ]
  },
  {
   "cell_type": "code",
   "execution_count": null,
   "id": "fe53373c",
   "metadata": {
    "colab": {
     "base_uri": "https://localhost:8080/",
     "height": 206
    },
    "id": "fe53373c",
    "outputId": "65f21d28-ddcd-425c-f0bf-aec2883b441f"
   },
   "outputs": [],
   "source": [
    "dist_maize_df.head()"
   ]
  },
  {
   "cell_type": "code",
   "execution_count": null,
   "id": "29e1f23d",
   "metadata": {
    "colab": {
     "base_uri": "https://localhost:8080/",
     "height": 819
    },
    "id": "29e1f23d",
    "outputId": "2c8b49e3-898e-4d34-98bc-e365184f8963"
   },
   "outputs": [],
   "source": [
    "plt.figure(figsize=(15,10))\n",
    "sns.barplot(dist_maize_df['District_Name'],dist_maize_df['Production'])\n",
    "plt.xticks(rotation=90)\n",
    "plt.show()"
   ]
  },
  {
   "cell_type": "code",
   "execution_count": null,
   "id": "9719f393",
   "metadata": {
    "colab": {
     "base_uri": "https://localhost:8080/",
     "height": 206
    },
    "id": "9719f393",
    "outputId": "5372b1a8-114a-4df3-aa0a-5df9bc6164dc"
   },
   "outputs": [],
   "source": [
    "df_sugar=df[df['Crop']=='Sugarcane']\n",
    "df_rice.head()"
   ]
  },
  {
   "cell_type": "code",
   "execution_count": null,
   "id": "6c52f84d",
   "metadata": {
    "colab": {
     "base_uri": "https://localhost:8080/",
     "height": 362
    },
    "id": "6c52f84d",
    "outputId": "e3370603-9125-4dd3-dec5-98695567cc41"
   },
   "outputs": [],
   "source": [
    "sns.barplot(df_sugar['Season'],df_sugar['Production'])"
   ]
  },
  {
   "cell_type": "code",
   "execution_count": null,
   "id": "7b0a5716",
   "metadata": {
    "colab": {
     "base_uri": "https://localhost:8080/",
     "height": 864
    },
    "id": "7b0a5716",
    "outputId": "d413ac63-d10d-465c-f1d7-8a3b7f0ec3fb"
   },
   "outputs": [],
   "source": [
    "plt.figure(figsize=(15,10))\n",
    "sns.barplot(df_sugar['State_Name'],df_sugar['Production'])\n",
    "plt.xticks(rotation=90)"
   ]
  },
  {
   "cell_type": "code",
   "execution_count": null,
   "id": "3cd87931",
   "metadata": {
    "colab": {
     "base_uri": "https://localhost:8080/",
     "height": 513
    },
    "id": "3cd87931",
    "outputId": "9bc9578c-2db3-413a-c88c-7d4227823aec"
   },
   "outputs": [],
   "source": [
    "sns.jointplot(\"Area\",\"Production\",data=df_sugar,kind=\"reg\")"
   ]
  },
  {
   "cell_type": "code",
   "execution_count": null,
   "id": "96af19ab",
   "metadata": {
    "id": "96af19ab"
   },
   "outputs": [],
   "source": [
    "dist_sugar_df=df_sugar.groupby('District_Name')['Production'].sum().reset_index().sort_values(by='Production',ascending=False)"
   ]
  },
  {
   "cell_type": "code",
   "execution_count": null,
   "id": "671b4650",
   "metadata": {
    "colab": {
     "base_uri": "https://localhost:8080/",
     "height": 206
    },
    "id": "671b4650",
    "outputId": "dcf5fe6e-caaf-4654-c785-79ac3b105507"
   },
   "outputs": [],
   "source": [
    "dist_sugar_df.head()"
   ]
  },
  {
   "cell_type": "code",
   "execution_count": null,
   "id": "d4cb4bed",
   "metadata": {
    "colab": {
     "base_uri": "https://localhost:8080/",
     "height": 819
    },
    "id": "d4cb4bed",
    "outputId": "b65f6742-ac45-464b-bb11-9ab613f1efb7"
   },
   "outputs": [],
   "source": [
    "plt.figure(figsize=(15,10))\n",
    "sns.barplot(dist_sugar_df['District_Name'],dist_sugar_df['Production'])\n",
    "plt.xticks(rotation=90)\n",
    "plt.show()"
   ]
  },
  {
   "cell_type": "code",
   "execution_count": null,
   "id": "e0135c31",
   "metadata": {
    "colab": {
     "base_uri": "https://localhost:8080/",
     "height": 424
    },
    "id": "e0135c31",
    "outputId": "d293601c-f6f4-4093-eaa0-8110ee94d6e4"
   },
   "outputs": [],
   "source": [
    "df"
   ]
  },
  {
   "cell_type": "markdown",
   "id": "b285cbae",
   "metadata": {
    "id": "b285cbae"
   },
   "source": [
    "# Feature Selection"
   ]
  },
  {
   "cell_type": "code",
   "execution_count": null,
   "id": "c0960548",
   "metadata": {
    "colab": {
     "base_uri": "https://localhost:8080/"
    },
    "id": "c0960548",
    "outputId": "412d0d68-75e1-405d-a830-8eae814639cb"
   },
   "outputs": [],
   "source": [
    "df.drop(['District_Name','Crop_Year'],axis=1,inplace=True)"
   ]
  },
  {
   "cell_type": "code",
   "execution_count": null,
   "id": "5678bf39",
   "metadata": {
    "colab": {
     "base_uri": "https://localhost:8080/",
     "height": 424
    },
    "id": "5678bf39",
    "outputId": "f70eb825-4d43-48b2-e33b-ae65277f0f17"
   },
   "outputs": [],
   "source": [
    "df"
   ]
  },
  {
   "cell_type": "code",
   "execution_count": null,
   "id": "edf70c18",
   "metadata": {
    "colab": {
     "base_uri": "https://localhost:8080/"
    },
    "id": "edf70c18",
    "outputId": "9615451a-a5d0-4acd-8d52-f7e837d3dc05"
   },
   "outputs": [],
   "source": [
    "df['Crop'].nunique()"
   ]
  },
  {
   "cell_type": "code",
   "execution_count": null,
   "id": "91f8ab45",
   "metadata": {
    "id": "91f8ab45"
   },
   "outputs": [],
   "source": [
    "df_final=pd.get_dummies(df)"
   ]
  },
  {
   "cell_type": "code",
   "execution_count": null,
   "id": "9ff96318",
   "metadata": {
    "colab": {
     "base_uri": "https://localhost:8080/",
     "height": 334
    },
    "id": "9ff96318",
    "outputId": "1aa20d55-080c-4141-f781-7dba08543848"
   },
   "outputs": [],
   "source": [
    "df_final.head()"
   ]
  },
  {
   "cell_type": "code",
   "execution_count": null,
   "id": "ed82d475",
   "metadata": {
    "colab": {
     "base_uri": "https://localhost:8080/"
    },
    "id": "ed82d475",
    "outputId": "166a9fa8-fbed-4ff8-d1db-a6a5a72445ff"
   },
   "outputs": [],
   "source": [
    "df_final.info()"
   ]
  },
  {
   "cell_type": "code",
   "execution_count": null,
   "id": "BFiSuZtl4QLV",
   "metadata": {
    "id": "BFiSuZtl4QLV"
   },
   "outputs": [],
   "source": [
    "df_final.columns=df_final.columns.str.replace(' ','')"
   ]
  },
  {
   "cell_type": "markdown",
   "id": "975284f1",
   "metadata": {
    "id": "975284f1"
   },
   "source": [
    "## model creation"
   ]
  },
  {
   "cell_type": "code",
   "execution_count": null,
   "id": "c9e2e176",
   "metadata": {
    "id": "c9e2e176"
   },
   "outputs": [],
   "source": [
    "x=df_final.drop('Production',axis=1)\n",
    "y=df_final['Production']"
   ]
  },
  {
   "cell_type": "code",
   "execution_count": null,
   "id": "e36dd15a",
   "metadata": {
    "id": "e36dd15a"
   },
   "outputs": [],
   "source": [
    "x_train,x_test,y_train,y_test=train_test_split(x,y,test_size=0.20,random_state=5)"
   ]
  },
  {
   "cell_type": "code",
   "execution_count": null,
   "id": "7f028ffe",
   "metadata": {
    "colab": {
     "base_uri": "https://localhost:8080/"
    },
    "id": "7f028ffe",
    "outputId": "db6818bf-7db1-4a37-f407-032772f855bf"
   },
   "outputs": [
    {
     "name": "stdout",
     "output_type": "stream",
     "text": [
      "<class 'pandas.core.frame.DataFrame'>\n",
      "Int64Index: 242361 entries, 0 to 246090\n",
      "Columns: 164 entries, Area to Crop_other oilseeds\n",
      "dtypes: float64(1), uint8(163)\n",
      "memory usage: 49.4 MB\n"
     ]
    }
   ],
   "source": [
    "x.info()"
   ]
  },
  {
   "cell_type": "code",
   "execution_count": null,
   "id": "47982ed8",
   "metadata": {
    "colab": {
     "base_uri": "https://localhost:8080/"
    },
    "id": "47982ed8",
    "outputId": "c187ebea-1fa4-4da6-d903-28d06adbe85a"
   },
   "outputs": [
    {
     "data": {
      "text/plain": [
       "LinearRegression()"
      ]
     },
     "execution_count": 47,
     "metadata": {},
     "output_type": "execute_result"
    }
   ],
   "source": [
    "linear_model=LinearRegression()\n",
    "linear_model.fit(x_train,y_train)"
   ]
  },
  {
   "cell_type": "code",
   "execution_count": null,
   "id": "0fb1954c",
   "metadata": {
    "colab": {
     "base_uri": "https://localhost:8080/"
    },
    "id": "0fb1954c",
    "outputId": "3cdc9376-bae7-448e-b238-1a287de618ed"
   },
   "outputs": [
    {
     "data": {
      "text/plain": [
       "array([-1410913.07177431, -1244100.60088973, -1319187.78030207,\n",
       "       -3359383.66669143,   188646.88779966])"
      ]
     },
     "execution_count": 48,
     "metadata": {},
     "output_type": "execute_result"
    }
   ],
   "source": [
    "#model evaluation on traning data \n",
    "y_train_pred=linear_model.predict(x_train)\n",
    "y_train_pred[0:5]"
   ]
  },
  {
   "cell_type": "code",
   "execution_count": null,
   "id": "cf75369e",
   "metadata": {
    "colab": {
     "base_uri": "https://localhost:8080/"
    },
    "id": "cf75369e",
    "outputId": "c1ab9a30-6942-4811-ded1-03c2059522ae"
   },
   "outputs": [
    {
     "data": {
      "text/plain": [
       "78624      71.0\n",
       "238776     43.0\n",
       "245620    160.0\n",
       "85958     118.0\n",
       "150919     68.0\n",
       "Name: Production, dtype: float64"
      ]
     },
     "execution_count": 49,
     "metadata": {},
     "output_type": "execute_result"
    }
   ],
   "source": [
    "y_train[0:5]"
   ]
  },
  {
   "cell_type": "code",
   "execution_count": null,
   "id": "05d761bd",
   "metadata": {
    "colab": {
     "base_uri": "https://localhost:8080/"
    },
    "id": "05d761bd",
    "outputId": "9bc09ef0-3b9e-44d3-a8b7-46a057a17e8b"
   },
   "outputs": [
    {
     "data": {
      "text/plain": [
       "0.1480018007454399"
      ]
     },
     "execution_count": 50,
     "metadata": {},
     "output_type": "execute_result"
    }
   ],
   "source": [
    "# checking the accuracy\n",
    "linear_accuracy=r2_score(y_train,y_train_pred)\n",
    "linear_accuracy"
   ]
  },
  {
   "cell_type": "code",
   "execution_count": null,
   "id": "e2ac8737",
   "metadata": {
    "colab": {
     "base_uri": "https://localhost:8080/"
    },
    "id": "e2ac8737",
    "outputId": "25ee44f8-6a64-4715-eeb0-8a73cf269a5c"
   },
   "outputs": [
    {
     "data": {
      "text/plain": [
       "array([  637538.5650393 ,   417617.07353149, -1393046.88513298,\n",
       "        3228131.3252092 ,   294546.88354067])"
      ]
     },
     "execution_count": 51,
     "metadata": {},
     "output_type": "execute_result"
    }
   ],
   "source": [
    "# model evaluation on testing data \n",
    "y_test_pred=linear_model.predict(x_test)\n",
    "y_test_pred[0:5]"
   ]
  },
  {
   "cell_type": "code",
   "execution_count": null,
   "id": "0dd433e1",
   "metadata": {
    "colab": {
     "base_uri": "https://localhost:8080/"
    },
    "id": "0dd433e1",
    "outputId": "90554004-146e-4aad-d48a-cff022719a4d"
   },
   "outputs": [
    {
     "data": {
      "text/plain": [
       "188194       4760.0\n",
       "159133        780.0\n",
       "86095        3383.0\n",
       "163014    1242000.0\n",
       "182360        131.0\n",
       "Name: Production, dtype: float64"
      ]
     },
     "execution_count": 52,
     "metadata": {},
     "output_type": "execute_result"
    }
   ],
   "source": [
    "y_test[0:5]"
   ]
  },
  {
   "cell_type": "code",
   "execution_count": null,
   "id": "089c2316",
   "metadata": {
    "colab": {
     "base_uri": "https://localhost:8080/"
    },
    "id": "089c2316",
    "outputId": "bbecc82a-644f-4c6a-c2c1-0e47de7ec68b"
   },
   "outputs": [
    {
     "data": {
      "text/plain": [
       "0.1626576570980276"
      ]
     },
     "execution_count": 53,
     "metadata": {},
     "output_type": "execute_result"
    }
   ],
   "source": [
    "# checking the accuracy\n",
    "linear_accuracy_test=r2_score(y_test,y_test_pred)\n",
    "linear_accuracy_test"
   ]
  },
  {
   "cell_type": "markdown",
   "id": "df3951d6",
   "metadata": {
    "id": "df3951d6"
   },
   "source": [
    "# Decision Tress"
   ]
  },
  {
   "cell_type": "code",
   "execution_count": null,
   "id": "7d8fa173",
   "metadata": {
    "colab": {
     "base_uri": "https://localhost:8080/"
    },
    "id": "7d8fa173",
    "outputId": "5c22331f-32c1-4c3b-97cc-08ab48699e56"
   },
   "outputs": [
    {
     "data": {
      "text/plain": [
       "DecisionTreeRegressor(random_state=42)"
      ]
     },
     "execution_count": 54,
     "metadata": {},
     "output_type": "execute_result"
    }
   ],
   "source": [
    "from sklearn.tree import DecisionTreeRegressor\n",
    "\n",
    "regressor = DecisionTreeRegressor(random_state=42)\n",
    "regressor.fit(x_train,y_train)"
   ]
  },
  {
   "cell_type": "code",
   "execution_count": null,
   "id": "c9d916f9",
   "metadata": {
    "colab": {
     "base_uri": "https://localhost:8080/"
    },
    "id": "c9d916f9",
    "outputId": "7493c44c-5b29-4ba9-d520-6f547ea5de0e"
   },
   "outputs": [
    {
     "data": {
      "text/plain": [
       "array([ 59.  ,  64.5 , 160.  , 115.55,  68.  ])"
      ]
     },
     "execution_count": 55,
     "metadata": {},
     "output_type": "execute_result"
    }
   ],
   "source": [
    "#model evaluation on traning data \n",
    "y_train_pred_dt=regressor.predict(x_train)\n",
    "y_train_pred_dt[0:5]"
   ]
  },
  {
   "cell_type": "code",
   "execution_count": null,
   "id": "5bae2305",
   "metadata": {
    "colab": {
     "base_uri": "https://localhost:8080/"
    },
    "id": "5bae2305",
    "outputId": "56b99574-0102-483d-aa8c-8b6826c5721c"
   },
   "outputs": [
    {
     "data": {
      "text/plain": [
       "78624      71.0\n",
       "238776     43.0\n",
       "245620    160.0\n",
       "85958     118.0\n",
       "150919     68.0\n",
       "Name: Production, dtype: float64"
      ]
     },
     "execution_count": 56,
     "metadata": {},
     "output_type": "execute_result"
    }
   ],
   "source": [
    "y_train[0:5]"
   ]
  },
  {
   "cell_type": "code",
   "execution_count": null,
   "id": "46eb367a",
   "metadata": {
    "colab": {
     "base_uri": "https://localhost:8080/"
    },
    "id": "46eb367a",
    "outputId": "3f4ef19a-549a-4107-8931-504aa19a6048"
   },
   "outputs": [
    {
     "data": {
      "text/plain": [
       "0.9986160020825702"
      ]
     },
     "execution_count": 57,
     "metadata": {},
     "output_type": "execute_result"
    }
   ],
   "source": [
    "# checking the accuracy\n",
    "regressor_accuracy_train_dt=r2_score(y_train,y_train_pred_dt)\n",
    "regressor_accuracy_train_dt"
   ]
  },
  {
   "cell_type": "code",
   "execution_count": null,
   "id": "ce402476",
   "metadata": {
    "colab": {
     "base_uri": "https://localhost:8080/"
    },
    "id": "ce402476",
    "outputId": "65a82be8-3183-4ae4-e91c-295b4e1f1e6d"
   },
   "outputs": [
    {
     "data": {
      "text/plain": [
       "array([4.4720e+03, 6.7000e+02, 2.9120e+03, 1.2015e+06, 1.1000e+02])"
      ]
     },
     "execution_count": 58,
     "metadata": {},
     "output_type": "execute_result"
    }
   ],
   "source": [
    "# model evaluation on testing data \n",
    "y_test_pred_dt=regressor.predict(x_test)\n",
    "y_test_pred_dt[0:5]"
   ]
  },
  {
   "cell_type": "code",
   "execution_count": null,
   "id": "702fbd14",
   "metadata": {
    "colab": {
     "base_uri": "https://localhost:8080/"
    },
    "id": "702fbd14",
    "outputId": "9147367b-0bda-48cb-8560-9379420b2003"
   },
   "outputs": [
    {
     "data": {
      "text/plain": [
       "188194       4760.0\n",
       "159133        780.0\n",
       "86095        3383.0\n",
       "163014    1242000.0\n",
       "182360        131.0\n",
       "Name: Production, dtype: float64"
      ]
     },
     "execution_count": 59,
     "metadata": {},
     "output_type": "execute_result"
    }
   ],
   "source": [
    "y_test[0:5]"
   ]
  },
  {
   "cell_type": "code",
   "execution_count": null,
   "id": "6b252c1c",
   "metadata": {
    "colab": {
     "base_uri": "https://localhost:8080/"
    },
    "id": "6b252c1c",
    "outputId": "a217dbcd-c307-43bf-db51-e24196161177"
   },
   "outputs": [
    {
     "data": {
      "text/plain": [
       "0.8205537219341198"
      ]
     },
     "execution_count": 60,
     "metadata": {},
     "output_type": "execute_result"
    }
   ],
   "source": [
    "# checking the accuracy\n",
    "regressor_accuracy_test_dt=r2_score(y_test,y_test_pred_dt)\n",
    "regressor_accuracy_test_dt"
   ]
  },
  {
   "cell_type": "markdown",
   "id": "23e4cf61",
   "metadata": {
    "id": "23e4cf61"
   },
   "source": [
    "## Random Forest"
   ]
  },
  {
   "cell_type": "code",
   "execution_count": 47,
   "id": "9294df97",
   "metadata": {
    "colab": {
     "base_uri": "https://localhost:8080/"
    },
    "id": "9294df97",
    "outputId": "f04d75c9-4287-4e8c-d123-790b003e5657"
   },
   "outputs": [
    {
     "data": {
      "text/plain": [
       "RandomForestRegressor(random_state=35)"
      ]
     },
     "execution_count": 47,
     "metadata": {},
     "output_type": "execute_result"
    }
   ],
   "source": [
    "rf_model=RandomForestRegressor(random_state=35)\n",
    "rf_model.fit(x_train,y_train)"
   ]
  },
  {
   "cell_type": "code",
   "execution_count": 48,
   "id": "8c2b7539",
   "metadata": {
    "colab": {
     "base_uri": "https://localhost:8080/"
    },
    "id": "8c2b7539",
    "outputId": "97e5979f-1029-4474-fc58-3d17beb67415"
   },
   "outputs": [
    {
     "data": {
      "text/plain": [
       "array([ 62.169    ,  71.8435   , 255.49     , 121.4219381,  73.2437   ])"
      ]
     },
     "execution_count": 48,
     "metadata": {},
     "output_type": "execute_result"
    }
   ],
   "source": [
    "# model evaluation for traning data \n",
    "y_train_pred_rf=rf_model.predict(x_train)\n",
    "y_train_pred_rf[0:5]"
   ]
  },
  {
   "cell_type": "code",
   "execution_count": 49,
   "id": "HMn3MajuvbSw",
   "metadata": {
    "colab": {
     "base_uri": "https://localhost:8080/"
    },
    "id": "HMn3MajuvbSw",
    "outputId": "25c7065d-4bca-46ef-ec6a-56040097e60a"
   },
   "outputs": [
    {
     "data": {
      "text/plain": [
       "78624      71.0\n",
       "238776     43.0\n",
       "245620    160.0\n",
       "85958     118.0\n",
       "150919     68.0\n",
       "Name: Production, dtype: float64"
      ]
     },
     "execution_count": 49,
     "metadata": {},
     "output_type": "execute_result"
    }
   ],
   "source": [
    "y_train[0:5]"
   ]
  },
  {
   "cell_type": "code",
   "execution_count": 50,
   "id": "m_03DJU-vemZ",
   "metadata": {
    "colab": {
     "base_uri": "https://localhost:8080/"
    },
    "id": "m_03DJU-vemZ",
    "outputId": "81d41f68-8087-46f5-9bb7-92d047ecde02"
   },
   "outputs": [
    {
     "data": {
      "text/plain": [
       "0.9745260230569325"
      ]
     },
     "execution_count": 50,
     "metadata": {},
     "output_type": "execute_result"
    }
   ],
   "source": [
    "# accuracy on traning data \n",
    "rf_accuracy_train=r2_score(y_train,y_train_pred_rf)\n",
    "rf_accuracy_train"
   ]
  },
  {
   "cell_type": "code",
   "execution_count": 51,
   "id": "5O_d8-DDvxu5",
   "metadata": {
    "colab": {
     "base_uri": "https://localhost:8080/"
    },
    "id": "5O_d8-DDvxu5",
    "outputId": "29c5d0cd-7c38-4997-be75-5a5377faab42"
   },
   "outputs": [
    {
     "data": {
      "text/plain": [
       "array([4.90569000e+03, 6.82250000e+02, 2.63952417e+03, 1.19347218e+06,\n",
       "       1.11498333e+02])"
      ]
     },
     "execution_count": 51,
     "metadata": {},
     "output_type": "execute_result"
    }
   ],
   "source": [
    "# model Evalution on test data \n",
    "y_test_pred_rf=rf_model.predict(x_test)\n",
    "y_test_pred_rf[0:5]"
   ]
  },
  {
   "cell_type": "code",
   "execution_count": 52,
   "id": "dCCUv4F6wFJZ",
   "metadata": {
    "colab": {
     "base_uri": "https://localhost:8080/"
    },
    "id": "dCCUv4F6wFJZ",
    "outputId": "84260b7a-54a7-42d4-a316-1a1b2d526f89"
   },
   "outputs": [
    {
     "data": {
      "text/plain": [
       "188194       4760.0\n",
       "159133        780.0\n",
       "86095        3383.0\n",
       "163014    1242000.0\n",
       "182360        131.0\n",
       "Name: Production, dtype: float64"
      ]
     },
     "execution_count": 52,
     "metadata": {},
     "output_type": "execute_result"
    }
   ],
   "source": [
    "y_test[0:5]"
   ]
  },
  {
   "cell_type": "markdown",
   "id": "HEMhKGAn-jCs",
   "metadata": {
    "id": "HEMhKGAn-jCs"
   },
   "source": []
  },
  {
   "cell_type": "code",
   "execution_count": 53,
   "id": "I6aL2yBBwLK3",
   "metadata": {
    "colab": {
     "base_uri": "https://localhost:8080/"
    },
    "id": "I6aL2yBBwLK3",
    "outputId": "c2a864f8-cad5-4121-9f3e-edea64e440c3"
   },
   "outputs": [
    {
     "data": {
      "text/plain": [
       "0.889318027938828"
      ]
     },
     "execution_count": 53,
     "metadata": {},
     "output_type": "execute_result"
    }
   ],
   "source": [
    "# accuracy on testing data \n",
    "rf_accuracy_test=r2_score(y_test,y_test_pred_rf)\n",
    "rf_accuracy_test"
   ]
  },
  {
   "cell_type": "code",
   "execution_count": 68,
   "id": "F1pRxkAYEF8Q",
   "metadata": {
    "colab": {
     "base_uri": "https://localhost:8080/"
    },
    "id": "F1pRxkAYEF8Q",
    "outputId": "c5f1fa30-c08a-40f6-f822-8696c9f55e53"
   },
   "outputs": [
    {
     "data": {
      "text/plain": [
       "Index(['State_Name_Tripura', 'State_Name_UttarPradesh',\n",
       "       'State_Name_Uttarakhand', 'State_Name_WestBengal', 'Season_Autumn',\n",
       "       'Season_Kharif', 'Season_Rabi', 'Season_Summer', 'Season_WholeYear',\n",
       "       'Season_Winter', 'Crop_Apple', 'Crop_Arcanut(Processed)',\n",
       "       'Crop_Arecanut', 'Crop_Arhar/Tur', 'Crop_AshGourd', 'Crop_Atcanut(Raw)',\n",
       "       'Crop_Bajra', 'Crop_Banana', 'Crop_Barley', 'Crop_Bean'],\n",
       "      dtype='object')"
      ]
     },
     "execution_count": 68,
     "metadata": {},
     "output_type": "execute_result"
    }
   ],
   "source": [
    "x.columns.T[30:50]\n",
    "\n"
   ]
  },
  {
   "cell_type": "code",
   "execution_count": 69,
   "id": "RRKoePTtvSN4",
   "metadata": {
    "colab": {
     "base_uri": "https://localhost:8080/"
    },
    "id": "RRKoePTtvSN4",
    "outputId": "86c09d1e-1f39-43b7-d76c-03d0c47b12ae"
   },
   "outputs": [
    {
     "name": "stdout",
     "output_type": "stream",
     "text": [
      "enter the area720\n",
      "enter the state:AndamanandNicobarIslands\n",
      "enter the season:WholeYear\n",
      "enter the crop name:Cashewnut\n"
     ]
    },
    {
     "name": "stderr",
     "output_type": "stream",
     "text": [
      "/usr/local/lib/python3.7/dist-packages/sklearn/base.py:451: UserWarning: X does not have valid feature names, but RandomForestRegressor was fitted with feature names\n",
      "  \"X does not have valid feature names, but\"\n"
     ]
    },
    {
     "data": {
      "text/plain": [
       "204.43400000000003"
      ]
     },
     "execution_count": 69,
     "metadata": {},
     "output_type": "execute_result"
    }
   ],
   "source": [
    "Area=float(input(\"enter the area\"))\n",
    "\n",
    "array=np.zeros(164,)\n",
    "array.shape\n",
    "array\n",
    "\n",
    "\n",
    "\n",
    "array[0]=Area\n",
    "\n",
    "column_list=x.columns\n",
    "name=str(input(\"enter the state:\"))\n",
    "state_name='State_Name_'+name\n",
    "state_index=x.columns.get_loc(state_name)\n",
    "array[state_index]=1\n",
    "      \n",
    "season=str(input(\"enter the season:\"))\n",
    "season_name='Season_' + season\n",
    "season_index=x.columns.get_loc(season_name)\n",
    "array[season_index]=1\n",
    "\n",
    "Crop_name=str(input(\"enter the crop name:\"))\n",
    "crop= 'Crop_' + Crop_name\n",
    "crop_index= x.columns.get_loc(crop)\n",
    "array[crop_index]=1\n",
    "\n",
    "array\n",
    "\n",
    "\n",
    "pred=rf_model.predict([array])\n",
    "pred[0]"
   ]
  },
  {
   "cell_type": "code",
   "execution_count": 70,
   "id": "kVWzsDG7vSP6",
   "metadata": {
    "id": "kVWzsDG7vSP6"
   },
   "outputs": [],
   "source": [
    "import pickle \n",
    "with open('model_yeild1.pkl','wb') as file:\n",
    "    pickle.dump(rf_model,file)"
   ]
  }
 ],
 "metadata": {
  "accelerator": "GPU",
  "colab": {
   "collapsed_sections": [],
   "provenance": []
  },
  "kernelspec": {
   "display_name": "Python 3 (ipykernel)",
   "language": "python",
   "name": "python3"
  },
  "language_info": {
   "codemirror_mode": {
    "name": "ipython",
    "version": 3
   },
   "file_extension": ".py",
   "mimetype": "text/x-python",
   "name": "python",
   "nbconvert_exporter": "python",
   "pygments_lexer": "ipython3",
   "version": "3.9.12"
  }
 },
 "nbformat": 4,
 "nbformat_minor": 5
}
